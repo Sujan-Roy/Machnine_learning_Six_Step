#Identity Operators
'''Identity operators are useful to test if two variables are present on the same part of the
memory.'''
#code writing

var1=13
var1=5
var2='WLAN'
var2='WLAN'
var3={23,5,7}
var3={1,2,3}

print(var1 is var1)
print(var2 is var2)
print(var3 is var3)
print(var1 is not var1)
print(var2 is not var2)
print(var3 is not var3)


#-----------Output----------
True
True
True
False
False
False